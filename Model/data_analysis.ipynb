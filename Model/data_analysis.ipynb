{
 "cells": [
  {
   "cell_type": "code",
   "execution_count": 1,
   "metadata": {},
   "outputs": [
    {
     "data": {
      "text/html": [
       "<div>\n",
       "<style scoped>\n",
       "    .dataframe tbody tr th:only-of-type {\n",
       "        vertical-align: middle;\n",
       "    }\n",
       "\n",
       "    .dataframe tbody tr th {\n",
       "        vertical-align: top;\n",
       "    }\n",
       "\n",
       "    .dataframe thead th {\n",
       "        text-align: right;\n",
       "    }\n",
       "</style>\n",
       "<table border=\"1\" class=\"dataframe\">\n",
       "  <thead>\n",
       "    <tr style=\"text-align: right;\">\n",
       "      <th></th>\n",
       "      <th>id</th>\n",
       "      <th>team_size</th>\n",
       "      <th>budget</th>\n",
       "      <th>workload</th>\n",
       "      <th>completion_time</th>\n",
       "      <th>project_tasks</th>\n",
       "    </tr>\n",
       "  </thead>\n",
       "  <tbody>\n",
       "    <tr>\n",
       "      <th>0</th>\n",
       "      <td>0</td>\n",
       "      <td>4</td>\n",
       "      <td>6041.04</td>\n",
       "      <td>medium</td>\n",
       "      <td>9 weeks</td>\n",
       "      <td>[{'task': {'description': 'Create and deliver ...</td>\n",
       "    </tr>\n",
       "    <tr>\n",
       "      <th>1</th>\n",
       "      <td>1</td>\n",
       "      <td>9</td>\n",
       "      <td>14342.56</td>\n",
       "      <td>light</td>\n",
       "      <td>6 weeks</td>\n",
       "      <td>[{'task': {'description': 'Develop and execute...</td>\n",
       "    </tr>\n",
       "    <tr>\n",
       "      <th>2</th>\n",
       "      <td>2</td>\n",
       "      <td>1</td>\n",
       "      <td>11569.16</td>\n",
       "      <td>medium</td>\n",
       "      <td>7 weeks</td>\n",
       "      <td>[{'task': {'description': 'Develop and execute...</td>\n",
       "    </tr>\n",
       "    <tr>\n",
       "      <th>3</th>\n",
       "      <td>3</td>\n",
       "      <td>1</td>\n",
       "      <td>7376.05</td>\n",
       "      <td>heavy</td>\n",
       "      <td>9 weeks</td>\n",
       "      <td>[{'task': {'description': 'Conduct user traini...</td>\n",
       "    </tr>\n",
       "    <tr>\n",
       "      <th>4</th>\n",
       "      <td>4</td>\n",
       "      <td>6</td>\n",
       "      <td>6277.35</td>\n",
       "      <td>light</td>\n",
       "      <td>5 weeks</td>\n",
       "      <td>[{'task': {'description': 'Lead and facilitate...</td>\n",
       "    </tr>\n",
       "  </tbody>\n",
       "</table>\n",
       "</div>"
      ],
      "text/plain": [
       "   id  team_size    budget workload completion_time  \\\n",
       "0   0          4   6041.04   medium         9 weeks   \n",
       "1   1          9  14342.56    light         6 weeks   \n",
       "2   2          1  11569.16   medium         7 weeks   \n",
       "3   3          1   7376.05    heavy         9 weeks   \n",
       "4   4          6   6277.35    light         5 weeks   \n",
       "\n",
       "                                       project_tasks  \n",
       "0  [{'task': {'description': 'Create and deliver ...  \n",
       "1  [{'task': {'description': 'Develop and execute...  \n",
       "2  [{'task': {'description': 'Develop and execute...  \n",
       "3  [{'task': {'description': 'Conduct user traini...  \n",
       "4  [{'task': {'description': 'Lead and facilitate...  "
      ]
     },
     "execution_count": 1,
     "metadata": {},
     "output_type": "execute_result"
    }
   ],
   "source": [
    "import pandas as pd\n",
    "import numpy as np\n",
    "import seaborn as sns\n",
    "from sklearn.linear_model import LinearRegression # Import Decision Tree Classifier\n",
    "from sklearn.model_selection import train_test_split # Import train_test_split function\n",
    "from sklearn import metrics\n",
    "from sklearn.metrics import accuracy_score\n",
    "import matplotlib.pyplot as plt\n",
    "import pickle\n",
    "\n",
    "df = pd.read_json(\"projects.json\")\n",
    "df.head(5)"
   ]
  },
  {
   "cell_type": "code",
   "execution_count": 6,
   "metadata": {},
   "outputs": [
    {
     "data": {
      "text/plain": [
       "id                   int64\n",
       "team_size            int64\n",
       "budget             float64\n",
       "workload            object\n",
       "completion_time     object\n",
       "project_tasks       object\n",
       "dtype: object"
      ]
     },
     "execution_count": 6,
     "metadata": {},
     "output_type": "execute_result"
    }
   ],
   "source": [
    "df.dtypes"
   ]
  },
  {
   "cell_type": "code",
   "execution_count": null,
   "metadata": {},
   "outputs": [],
   "source": []
  }
 ],
 "metadata": {
  "kernelspec": {
   "display_name": "base",
   "language": "python",
   "name": "python3"
  },
  "language_info": {
   "codemirror_mode": {
    "name": "ipython",
    "version": 3
   },
   "file_extension": ".py",
   "mimetype": "text/x-python",
   "name": "python",
   "nbconvert_exporter": "python",
   "pygments_lexer": "ipython3",
   "version": "3.10.9"
  },
  "orig_nbformat": 4
 },
 "nbformat": 4,
 "nbformat_minor": 2
}
